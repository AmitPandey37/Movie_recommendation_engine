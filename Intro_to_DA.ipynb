{
 "cells": [
  {
   "cell_type": "markdown",
   "metadata": {},
   "source": [
    "# ** Introduction to Data Analytics **"
   ]
  },
  {
   "cell_type": "markdown",
   "metadata": {},
   "source": [
    "<img src=\"https://user-images.githubusercontent.com/12840374/37643644-3e849ce8-2c47-11e8-839d-d196a7845c51.png\" align =\"middle\" alt=\"Figure 1.1\" style=\"width:70%;height:70%\">"
   ]
  },
  {
   "cell_type": "markdown",
   "metadata": {},
   "source": [
    "* Impact on business today\n",
    "    * Enable new products, Services and creating new markets\n",
    "    * Distrupting existing market\n",
    "    * Driving increased efficiency\n",
    "    \n",
    "    \n",
    "* How can data help organization?\n",
    "    * Identufy growth oppertunies\n",
    "    * Drive innovation\n",
    "    * Operate more efficiently\n",
    "    * Manage risk in new ways"
   ]
  },
  {
   "cell_type": "markdown",
   "metadata": {},
   "source": [
    "<img src=\"https://user-images.githubusercontent.com/12840374/37643886-fb22384c-2c47-11e8-83ab-db83612ac067.png\" align =\"middle\" alt=\"Figure 1.2\" style=\"width:45%;height:45%\">"
   ]
  },
  {
   "cell_type": "markdown",
   "metadata": {},
   "source": [
    "# **Types of Data Analytics**"
   ]
  },
  {
   "cell_type": "markdown",
   "metadata": {},
   "source": [
    "<img src=\"https://user-images.githubusercontent.com/12840374/37643943-2522672a-2c48-11e8-8409-99be1665c960.png\" align =\"middle\" alt=\"Figure 1.3\" style=\"width:85%;height:85%\">"
   ]
  },
  {
   "cell_type": "markdown",
   "metadata": {},
   "source": [
    "# ** Intrduction to Machine Learning **"
   ]
  },
  {
   "cell_type": "markdown",
   "metadata": {},
   "source": [
    "<img src=\"https://user-images.githubusercontent.com/12840374/37644020-6748f682-2c48-11e8-8081-76e30eea7dac.jpeg\" \n",
    "align=\"middle\" alt=\"Figure 1.4\" data-canonical-src=\"\" style=\"width:65%;height:65%\">"
   ]
  },
  {
   "cell_type": "markdown",
   "metadata": {},
   "source": [
    "# ** Machine Learning applications **"
   ]
  },
  {
   "cell_type": "markdown",
   "metadata": {},
   "source": [
    "<img src=\"https://user-images.githubusercontent.com/12840374/37644046-7e3a11d2-2c48-11e8-8bd4-6d858baa9f42.png\" style=\"width:70%;height:70%\" align=\"middle\" alt=\"Figure 1.5\" data-canonical-src=\"\">"
   ]
  },
  {
   "cell_type": "markdown",
   "metadata": {},
   "source": [
    "# ** Data Analytics lifecycle **"
   ]
  },
  {
   "cell_type": "markdown",
   "metadata": {},
   "source": [
    "<img src=\"https://user-images.githubusercontent.com/12840374/37644065-924eb01a-2c48-11e8-8e4e-07d354f2201e.png\" style=\"width:70%;height:70%\" align=\"middle\" alt=\"Figure 1.6\" data-canonical-src=\"\">"
   ]
  },
  {
   "cell_type": "markdown",
   "metadata": {},
   "source": [
    "# ** Steps to build analytics application **"
   ]
  },
  {
   "cell_type": "markdown",
   "metadata": {},
   "source": [
    "<img src=\"https://user-images.githubusercontent.com/12840374/37646888-e399e072-2c50-11e8-8b52-8fbe83ce494c.png\" style=\"width:50%;height:50%\" align=\"middle\" alt=\"Figure 1.7\" data-canonical-src=\"\">"
   ]
  }
 ],
 "metadata": {
  "kernelspec": {
   "display_name": "Python 3",
   "language": "python",
   "name": "python3"
  },
  "language_info": {
   "codemirror_mode": {
    "name": "ipython",
    "version": 3
   },
   "file_extension": ".py",
   "mimetype": "text/x-python",
   "name": "python",
   "nbconvert_exporter": "python",
   "pygments_lexer": "ipython3",
   "version": "3.5.2"
  }
 },
 "nbformat": 4,
 "nbformat_minor": 2
}
